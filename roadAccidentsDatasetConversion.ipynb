{
 "cells": [
  {
   "cell_type": "code",
   "execution_count": null,
   "metadata": {},
   "outputs": [],
   "source": [
    "import pandas as pd\n",
    "import numpy as np\n",
    "\n",
    "# Load the dataset (replace 'path_to_dataset.csv' with the actual file path)\n",
    "df = pd.read_csv(r'D:\\US_Accidents_March23.csv')\n",
    "\n",
    "# Select the columns of interest\n",
    "df = df[['county', 'state']]\n",
    "\n",
    "# Count the occurrences of each county\n",
    "df['count'] = df['county'].value_counts().reset_index()\n",
    "# county_counts.columns = ['county', 'count']\n",
    "\n",
    "df.to_csv('aggregated_road_accident_data.csv', index=False)\n"
   ]
  },
  {
   "cell_type": "code",
   "execution_count": null,
   "metadata": {},
   "outputs": [],
   "source": [
    "len(df)"
   ]
  }
 ],
 "metadata": {
  "kernelspec": {
   "display_name": "Python 3",
   "language": "python",
   "name": "python3"
  },
  "language_info": {
   "codemirror_mode": {
    "name": "ipython",
    "version": 3
   },
   "file_extension": ".py",
   "mimetype": "text/x-python",
   "name": "python",
   "nbconvert_exporter": "python",
   "pygments_lexer": "ipython3",
   "version": "3.11.5"
  }
 },
 "nbformat": 4,
 "nbformat_minor": 2
}
