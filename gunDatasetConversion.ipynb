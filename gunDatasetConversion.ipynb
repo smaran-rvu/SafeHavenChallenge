{
 "cells": [
  {
   "cell_type": "code",
   "execution_count": 3,
   "metadata": {},
   "outputs": [
    {
     "name": "stdout",
     "output_type": "stream",
     "text": [
      "Aggregated data has been saved to 'aggregated_gun_violence_data.csv'.\n"
     ]
    }
   ],
   "source": [
    "import pandas as pd\n",
    "\n",
    "# Load the dataset\n",
    "df = pd.read_csv(r'C:\\Users\\smara\\OneDrive\\Desktop\\gun-violence-data_01-2013_03-2018.csv')\n",
    "\n",
    "# Select the columns of interest\n",
    "df = df[['city_or_county', 'n_killed', 'n_injured']]\n",
    "\n",
    "# Perform the aggregation\n",
    "result = df.groupby('city_or_county').sum().reset_index()\n",
    "\n",
    "# Replace the values containing '(county)'\n",
    "df['city_or_county'] = df['city_or_county'].str.replace(r'\\(county\\)', '', regex=True).str.strip()\n",
    "\n",
    "# Perform the aggregation\n",
    "result = df.groupby('city_or_county').sum().reset_index()\n",
    "\n",
    "# Export the result to a CSV file\n",
    "result.to_csv('aggregated_gun_violence_data.csv', index=False)\n",
    "\n",
    "print(\"Aggregated data has been saved to 'aggregated_gun_violence_data.csv'.\")\n"
   ]
  },
  {
   "cell_type": "code",
   "execution_count": 4,
   "metadata": {},
   "outputs": [
    {
     "data": {
      "text/plain": [
       "12273"
      ]
     },
     "execution_count": 4,
     "metadata": {},
     "output_type": "execute_result"
    }
   ],
   "source": [
    "len(result)"
   ]
  }
 ],
 "metadata": {
  "kernelspec": {
   "display_name": "Python 3",
   "language": "python",
   "name": "python3"
  },
  "language_info": {
   "codemirror_mode": {
    "name": "ipython",
    "version": 3
   },
   "file_extension": ".py",
   "mimetype": "text/x-python",
   "name": "python",
   "nbconvert_exporter": "python",
   "pygments_lexer": "ipython3",
   "version": "3.11.5"
  }
 },
 "nbformat": 4,
 "nbformat_minor": 2
}
